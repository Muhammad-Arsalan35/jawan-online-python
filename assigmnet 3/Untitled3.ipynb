{
 "cells": [
  {
   "cell_type": "code",
   "execution_count": 1,
   "id": "c57229b0",
   "metadata": {},
   "outputs": [
    {
     "name": "stdout",
     "output_type": "stream",
     "text": [
      "10.264591895383516\n"
     ]
    }
   ],
   "source": [
    "import math\n",
    "x =  2\n",
    "h = 0.3\n",
    "def f(x):\n",
    "    return 7*math.pow(math.e,(0.5*x))\n",
    "av=(f(x+h)-f(x))/h\n",
    "print(av)\n",
    "                    "
   ]
  },
  {
   "cell_type": "code",
   "execution_count": 2,
   "id": "54082b2d",
   "metadata": {},
   "outputs": [
    {
     "name": "stdout",
     "output_type": "stream",
     "text": [
      "8.0\n",
      "2.718281828459045\n"
     ]
    }
   ],
   "source": [
    "import math\n",
    "a=math.pow(2,3)\n",
    "print(a)\n",
    "print(math.e)"
   ]
  },
  {
   "cell_type": "code",
   "execution_count": 6,
   "id": "86f2590b",
   "metadata": {},
   "outputs": [
    {
     "name": "stdout",
     "output_type": "stream",
     "text": [
      "9.513986399606658\n",
      "0.7460136003933417\n"
     ]
    }
   ],
   "source": [
    "import math\n",
    "x =  2\n",
    "h = 0.3\n",
    "def df(x):\n",
    "    return 7*0.5*math.pow(math.e,(0.5*x))\n",
    "tv=df(x)\n",
    "print(tv)\n",
    "e=10.26-tv\n",
    "print(e)\n"
   ]
  },
  {
   "cell_type": "code",
   "execution_count": 5,
   "id": "be161d4b",
   "metadata": {},
   "outputs": [
    {
     "name": "stdout",
     "output_type": "stream",
     "text": [
      "-0.39000000000000057\n",
      "relative approximate -0.03951367781155021\n",
      "relative approximate present -3.9513677811550214\n",
      "Absolute approximate 3.9513677811550214\n"
     ]
    }
   ],
   "source": [
    "import math\n",
    "h = 0.3\n",
    "preapp = 9.87\n",
    "prvapp = 10.26\n",
    "e = preapp - prvapp\n",
    "print(e)\n",
    "relapp = e/preapp\n",
    "print(\"relative approximate\",relapp)\n",
    "relappper = relapp*100\n",
    "print(\"relative approximate present\",relappper)\n",
    "print(\"Absolute approximate\",math.fabs(relappper))"
   ]
  },
  {
   "cell_type": "code",
   "execution_count": null,
   "id": "6a2c792b",
   "metadata": {},
   "outputs": [],
   "source": []
  },
  {
   "cell_type": "code",
   "execution_count": null,
   "id": "2a7bba29",
   "metadata": {},
   "outputs": [],
   "source": []
  }
 ],
 "metadata": {
  "kernelspec": {
   "display_name": "Python 3",
   "language": "python",
   "name": "python3"
  },
  "language_info": {
   "codemirror_mode": {
    "name": "ipython",
    "version": 3
   },
   "file_extension": ".py",
   "mimetype": "text/x-python",
   "name": "python",
   "nbconvert_exporter": "python",
   "pygments_lexer": "ipython3",
   "version": "3.8.8"
  }
 },
 "nbformat": 4,
 "nbformat_minor": 5
}
